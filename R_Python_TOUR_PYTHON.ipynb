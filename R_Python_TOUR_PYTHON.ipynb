{
  "nbformat": 4,
  "nbformat_minor": 0,
  "metadata": {
    "colab": {
      "provenance": [],
      "authorship_tag": "ABX9TyPe8bE92OTvmMOs1R7GsCdw",
      "include_colab_link": true
    },
    "kernelspec": {
      "name": "python3",
      "display_name": "Python 3"
    },
    "language_info": {
      "name": "python"
    }
  },
  "cells": [
    {
      "cell_type": "markdown",
      "metadata": {
        "id": "view-in-github",
        "colab_type": "text"
      },
      "source": [
        "<a href=\"https://colab.research.google.com/github/ajcanepa/R_Python_Paralelo/blob/main/R_Python_TOUR_PYTHON.ipynb\" target=\"_parent\"><img src=\"https://colab.research.google.com/assets/colab-badge.svg\" alt=\"Open In Colab\"/></a>"
      ]
    },
    {
      "cell_type": "markdown",
      "source": [
        "# Introducción\n"
      ],
      "metadata": {
        "id": "Pn0eTTcWFYa_"
      }
    },
    {
      "cell_type": "markdown",
      "source": [
        "### Calculadora\n",
        "\n",
        "Podemos usar Python como una calculadora"
      ],
      "metadata": {
        "id": "a9whO5Z3Foxc"
      }
    },
    {
      "cell_type": "code",
      "source": [
        "1+1"
      ],
      "metadata": {
        "colab": {
          "base_uri": "https://localhost:8080/"
        },
        "id": "Kp3dQOUqFxNK",
        "outputId": "8fa8dcc6-4805-47ea-a623-e879723193f0"
      },
      "execution_count": null,
      "outputs": [
        {
          "output_type": "execute_result",
          "data": {
            "text/plain": [
              "2"
            ]
          },
          "metadata": {},
          "execution_count": 1
        }
      ]
    },
    {
      "cell_type": "code",
      "source": [
        "# log(2)\n",
        "# Esto da un error porque se necesita la librería math"
      ],
      "metadata": {
        "id": "lp6EnI7_Gb5L"
      },
      "execution_count": null,
      "outputs": []
    },
    {
      "cell_type": "markdown",
      "source": [
        "Python necesita una librería `math` para poder trabajar con algunas operaciones matemáticas"
      ],
      "metadata": {
        "id": "GY5F7xfQGexV"
      }
    },
    {
      "cell_type": "code",
      "source": [
        "from math import log\n",
        "log(2)"
      ],
      "metadata": {
        "colab": {
          "base_uri": "https://localhost:8080/"
        },
        "id": "jlDXkAWxGlAW",
        "outputId": "e4420212-35bc-4a03-9718-85ac91749ad6"
      },
      "execution_count": null,
      "outputs": [
        {
          "output_type": "execute_result",
          "data": {
            "text/plain": [
              "0.6931471805599453"
            ]
          },
          "metadata": {},
          "execution_count": 4
        }
      ]
    },
    {
      "cell_type": "markdown",
      "source": [
        "### Tipos y Variables"
      ],
      "metadata": {
        "id": "OemuwVNvG7zq"
      }
    },
    {
      "cell_type": "code",
      "source": [
        "a = 2\n",
        "b = 5.0\n",
        "x = 'Hello World'"
      ],
      "metadata": {
        "id": "rI_YDuZpG-4h"
      },
      "execution_count": null,
      "outputs": []
    },
    {
      "cell_type": "code",
      "source": [
        "a"
      ],
      "metadata": {
        "colab": {
          "base_uri": "https://localhost:8080/"
        },
        "id": "YMkj676ZHjJG",
        "outputId": "85b64fa4-49ef-439b-bf21-af6f6e271644"
      },
      "execution_count": null,
      "outputs": [
        {
          "output_type": "execute_result",
          "data": {
            "text/plain": [
              "2"
            ]
          },
          "metadata": {},
          "execution_count": 12
        }
      ]
    },
    {
      "cell_type": "code",
      "source": [
        "b"
      ],
      "metadata": {
        "colab": {
          "base_uri": "https://localhost:8080/"
        },
        "id": "qimdRRewH2s3",
        "outputId": "00651d3c-5a98-40da-8952-04b7082cd54c"
      },
      "execution_count": null,
      "outputs": [
        {
          "output_type": "execute_result",
          "data": {
            "text/plain": [
              "5.0"
            ]
          },
          "metadata": {},
          "execution_count": 13
        }
      ]
    },
    {
      "cell_type": "code",
      "source": [
        "x"
      ],
      "metadata": {
        "colab": {
          "base_uri": "https://localhost:8080/",
          "height": 36
        },
        "id": "sN-fLjF_H4Nn",
        "outputId": "eec3f3e2-a2e3-4db0-a8ac-63699084fbbd"
      },
      "execution_count": null,
      "outputs": [
        {
          "output_type": "execute_result",
          "data": {
            "text/plain": [
              "'Hello World'"
            ],
            "application/vnd.google.colaboratory.intrinsic+json": {
              "type": "string"
            }
          },
          "metadata": {},
          "execution_count": 14
        }
      ]
    },
    {
      "cell_type": "code",
      "source": [
        "e = a*2+b\n",
        "e"
      ],
      "metadata": {
        "colab": {
          "base_uri": "https://localhost:8080/"
        },
        "id": "ETQAZd1tHk-n",
        "outputId": "b0f6b4e8-e199-4528-ed75-aae7b0cae0d3"
      },
      "execution_count": null,
      "outputs": [
        {
          "output_type": "execute_result",
          "data": {
            "text/plain": [
              "9.0"
            ]
          },
          "metadata": {},
          "execution_count": 15
        }
      ]
    },
    {
      "cell_type": "markdown",
      "source": [
        "Para conocer cada variable usamos `type()`"
      ],
      "metadata": {
        "id": "eZ96ABpfIMWc"
      }
    },
    {
      "cell_type": "code",
      "source": [
        "type(a)"
      ],
      "metadata": {
        "colab": {
          "base_uri": "https://localhost:8080/"
        },
        "id": "-zMTfsaPIR3E",
        "outputId": "42a7a73b-c087-43eb-cdb2-0139a8e18c27"
      },
      "execution_count": null,
      "outputs": [
        {
          "output_type": "execute_result",
          "data": {
            "text/plain": [
              "int"
            ]
          },
          "metadata": {},
          "execution_count": 18
        }
      ]
    },
    {
      "cell_type": "code",
      "source": [
        "\n",
        "type(x)"
      ],
      "metadata": {
        "colab": {
          "base_uri": "https://localhost:8080/"
        },
        "id": "lWpKQ5CpIaSP",
        "outputId": "0d9122cb-91c5-4c85-f0c7-1c2ad2342541"
      },
      "execution_count": null,
      "outputs": [
        {
          "output_type": "execute_result",
          "data": {
            "text/plain": [
              "str"
            ]
          },
          "metadata": {},
          "execution_count": 19
        }
      ]
    },
    {
      "cell_type": "code",
      "source": [
        "type(e)"
      ],
      "metadata": {
        "colab": {
          "base_uri": "https://localhost:8080/"
        },
        "id": "Zr1TKOaPIlx7",
        "outputId": "724b5e26-fd99-4984-98e0-9002d406b8a7"
      },
      "execution_count": null,
      "outputs": [
        {
          "output_type": "execute_result",
          "data": {
            "text/plain": [
              "float"
            ]
          },
          "metadata": {},
          "execution_count": 20
        }
      ]
    },
    {
      "cell_type": "markdown",
      "source": [
        "### Funciones\n",
        "En Python las funciones se crean con `def()`.\n",
        "\n",
        "__¡Importante!__, en Python el código necesita identación."
      ],
      "metadata": {
        "id": "kqCs5HLgIqIb"
      }
    },
    {
      "cell_type": "code",
      "source": [
        "def fun1(x):\n",
        "  return (x*x)\n",
        "\n",
        "fun1(x=8)"
      ],
      "metadata": {
        "colab": {
          "base_uri": "https://localhost:8080/"
        },
        "id": "GnNyOwMaJcEX",
        "outputId": "65cf1328-7331-4d1a-d295-730ae64b3fa7"
      },
      "execution_count": null,
      "outputs": [
        {
          "output_type": "execute_result",
          "data": {
            "text/plain": [
              "64"
            ]
          },
          "metadata": {},
          "execution_count": 22
        }
      ]
    }
  ]
}